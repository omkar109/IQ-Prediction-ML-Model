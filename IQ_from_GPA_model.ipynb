{
  "nbformat": 4,
  "nbformat_minor": 0,
  "metadata": {
    "colab": {
      "provenance": [],
      "authorship_tag": "ABX9TyMXOxyuJy/T/ds3HmCsy4/8",
      "include_colab_link": true
    },
    "kernelspec": {
      "name": "python3",
      "display_name": "Python 3"
    },
    "language_info": {
      "name": "python"
    }
  },
  "cells": [
    {
      "cell_type": "markdown",
      "metadata": {
        "id": "view-in-github",
        "colab_type": "text"
      },
      "source": [
        "<a href=\"https://colab.research.google.com/github/omkar109/IQ-Prediction-ML-Model/blob/main/IQ_from_GPA_model.ipynb\" target=\"_parent\"><img src=\"https://colab.research.google.com/assets/colab-badge.svg\" alt=\"Open In Colab\"/></a>"
      ]
    },
    {
      "cell_type": "code",
      "execution_count": null,
      "metadata": {
        "id": "-blDnRWFi8BV"
      },
      "outputs": [],
      "source": [
        "import tensorflow as tf\n",
        "import pandas as pd\n",
        "\n",
        "#hyperparameters for the model\n",
        "learning_rate = 0.1\n",
        "batch_size = 1\n",
        "\n",
        "training_dataframe = pd.read_csv(\"student_clustering.csv\")\n",
        "#training_dataframe.describe() (The data looks good enough to use)\n",
        "\n",
        "#Scale the GPA to a number between 0 and ~5\n",
        "training_dataframe[\"cgpa\"] = training_dataframe[\"cgpa\"] / 2\n",
        "training_dataframe.describe()\n",
        "model = tf.keras.Sequential()\n",
        "\n",
        "#function that builds the model we want to use\n",
        "def create_model():\n",
        "  #Create a sequential model\n",
        "\n",
        "  #Add one layer that takes in 1x1 input and returns 1x1\n",
        "  model.add(tf.keras.layers.Dense(units=1, input_shape=(1,1)))\n",
        "  #Configure model for training using squared loss\n",
        "  model.compile(optimizer=tf.keras.optimizers.experimental.RMSprop(learning_rate=learning_rate),\n",
        "                loss=\"mean_squared_error\", metrics=\"mean_squared_error\")\n",
        "\n",
        "#Train the model we created above\n",
        "def train_model():\n",
        "  model.fit(x=training_dataframe[\"cgpa\"], y=training_dataframe[\"iq\"], batch_size=batch_size\n",
        "                     ,epochs=5000)\n",
        "\n",
        "create_model()\n",
        "train_model()\n",
        "\n"
      ]
    }
  ]
}